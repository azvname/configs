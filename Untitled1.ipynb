{
  "nbformat": 4,
  "nbformat_minor": 0,
  "metadata": {
    "colab": {
      "provenance": [],
      "mount_file_id": "1KrRUNJwFxBnDL9JpHJuvA2x6YgO65kJV",
      "authorship_tag": "ABX9TyNytUNzVuEOg3S7WK+b19CS",
      "include_colab_link": true
    },
    "kernelspec": {
      "name": "python3",
      "display_name": "Python 3"
    },
    "language_info": {
      "name": "python"
    }
  },
  "cells": [
    {
      "cell_type": "markdown",
      "metadata": {
        "id": "view-in-github",
        "colab_type": "text"
      },
      "source": [
        "<a href=\"https://colab.research.google.com/github/onez9/configs/blob/main/Untitled1.ipynb\" target=\"_parent\"><img src=\"https://colab.research.google.com/assets/colab-badge.svg\" alt=\"Open In Colab\"/></a>"
      ]
    },
    {
      "cell_type": "code",
      "execution_count": 30,
      "metadata": {
        "colab": {
          "base_uri": "https://localhost:8080/"
        },
        "id": "daWtyTTf2hGf",
        "outputId": "dc4aae68-1062-4e15-a262-67f7aa4684a3"
      },
      "outputs": [
        {
          "output_type": "stream",
          "name": "stdout",
          "text": [
            "tensorflow: 2.15.0\n",
            "keras: 2.15.0\n",
            "numpy: 1.23.1\n",
            "sklearn: 1.2.2\n"
          ]
        }
      ],
      "source": [
        "import tensorflow as tf\n",
        "import keras\n",
        "import sklearn\n",
        "from sklearn.ensemble import RandomForestClassifier\n",
        "import numpy as np\n",
        "from zipfile import ZipFile\n",
        "import os\n",
        "# from skimage.data import imread\n",
        "import matplotlib.pyplot as plt\n",
        "import skimage\n",
        "# import pixellib\n",
        "from pixellib.instance import instance_segmentation\n",
        "\n",
        "\n",
        "print(f'tensorflow: {tf.__version__}')\n",
        "print(f'keras: {keras.__version__}')\n",
        "print(f'numpy: {np.__version__}')\n",
        "print(f'sklearn: {sklearn.__version__}')\n",
        "# print(f'os: {os.__version__}')\n"
      ]
    },
    {
      "cell_type": "code",
      "source": [
        "file_name='mnist_train_small.csv'\n",
        "with open(file_name, \"r\") as fi:\n",
        "  txt = fi.read()\n",
        "  print(txt)"
      ],
      "metadata": {
        "id": "YIeZvjl-SbbO"
      },
      "execution_count": null,
      "outputs": []
    },
    {
      "cell_type": "code",
      "source": [
        "file_name = 'drive/MyDrive/BelgiumTSC_Testing.zip'\n",
        "with ZipFile(file_name, 'r') as zip:\n",
        "  zip.extractall()\n",
        "  print('Extract testing is done')\n",
        "\n",
        "file_name = 'drive/MyDrive/BelgiumTSC_Training.zip'\n",
        "with ZipFile(file_name, 'r') as zip:\n",
        "  zip.extractall()\n",
        "  print('Extract training is done')"
      ],
      "metadata": {
        "colab": {
          "base_uri": "https://localhost:8080/"
        },
        "id": "J0e6INKHTKMI",
        "outputId": "6fbf72c3-8708-4afa-c82a-d800fe9cd350"
      },
      "execution_count": 3,
      "outputs": [
        {
          "output_type": "stream",
          "name": "stdout",
          "text": [
            "Extract testing is done\n",
            "Extract training is done\n"
          ]
        }
      ]
    },
    {
      "cell_type": "code",
      "source": [
        "\n",
        "\n",
        "\n",
        "\n",
        "config = tf.compat.v1.ConfigProto(log_device_placement = True)\n",
        "config = tf.compat.v1.ConfigProto(allow_soft_placement = True)\n",
        "\n",
        "\n",
        "# initialize session and run result\n",
        "with tf.compat.v1.Session() as sess:\n",
        "  x1 = tf.constant([1,2,3,4])\n",
        "  x2 = tf.constant([5,6,7,8])\n",
        "\n",
        "\n",
        "  result = tf.multiply(x1, x2)\n",
        "  print(result)\n",
        "  output = sess.run(result)\n",
        "  print(output)"
      ],
      "metadata": {
        "id": "_izhJexS3EWX"
      },
      "execution_count": null,
      "outputs": []
    },
    {
      "cell_type": "code",
      "source": [
        "\n",
        "\n",
        "def load_data(data_directory):\n",
        "  directories = [d for d in os.listdir(data_directory)\n",
        "                  if os.path.isdir(os.path.join(data_directory, d))]\n",
        "  print(directories)\n",
        "  labels = []\n",
        "  images = []\n",
        "  for d in directories:\n",
        "    label_directory = os.path.join(data_directory, d)\n",
        "    print(label_directory)\n",
        "    file_names = [os.path.join(label_directory, f) for f in os.listdir(label_directory)\n",
        "        if f.endswith('.ppm')]\n",
        "    print(file_names)\n",
        "    for f in file_names:\n",
        "      images.append(skimage.io.imread(f))\n",
        "      labels.append(int(d))\n",
        "    return images, labels\n",
        "\n",
        "train_data_directory = \"Training\"\n",
        "test_data_directory = \"Testing\"\n",
        "\n",
        "# images, labels = load_data(train_data_directory)\n",
        "images, labels = load_data(train_data_directory)"
      ],
      "metadata": {
        "id": "LaoMnj20WYHR"
      },
      "execution_count": null,
      "outputs": []
    },
    {
      "cell_type": "code",
      "source": [
        "images = np.array(images, dtype=list)\n",
        "print(images.size) # вывести количество элементов массива\n",
        "print(images.ndim) # размерность массива\n",
        "\n",
        "labels = np.array(labels)\n",
        "print(len(labels))\n",
        "# images[2]\n",
        "print(len(set(labels)))"
      ],
      "metadata": {
        "id": "2e5OD4Zai79T"
      },
      "execution_count": null,
      "outputs": []
    },
    {
      "cell_type": "code",
      "source": [
        "plt.hist(labels, 62)\n",
        "plt.show()"
      ],
      "metadata": {
        "id": "qhy_KiLeqb4t"
      },
      "execution_count": null,
      "outputs": []
    },
    {
      "cell_type": "code",
      "source": [
        "# Import the `pyplot` module of `matplotlib`\n",
        "import matplotlib.pyplot as plt\n",
        "\n",
        "# Determine the (random) indexes of the images that you want to see\n",
        "traffic_signs = [30, 22, 50, 40]\n",
        "\n",
        "# Fill out the subplots with the random images that you defined\n",
        "for i in range(len(traffic_signs)):\n",
        "    plt.subplot(1, 4, i+1)\n",
        "    plt.axis('off')\n",
        "    plt.imshow(images[traffic_signs[i]])\n",
        "    plt.subplots_adjust(wspace=0.5)\n",
        "\n",
        "plt.show()"
      ],
      "metadata": {
        "colab": {
          "base_uri": "https://localhost:8080/",
          "height": 640
        },
        "id": "B8lI4Lmh8W7Z",
        "outputId": "cf92d02f-e08c-4619-a126-36d445d130dc"
      },
      "execution_count": 32,
      "outputs": [
        {
          "output_type": "error",
          "ename": "TypeError",
          "evalue": "'str' object is not callable",
          "traceback": [
            "\u001b[0;31m---------------------------------------------------------------------------\u001b[0m",
            "\u001b[0;31mTypeError\u001b[0m                                 Traceback (most recent call last)",
            "\u001b[0;32m<ipython-input-32-0f611a0dda98>\u001b[0m in \u001b[0;36m<cell line: 8>\u001b[0;34m()\u001b[0m\n\u001b[1;32m      8\u001b[0m \u001b[0;32mfor\u001b[0m \u001b[0mi\u001b[0m \u001b[0;32min\u001b[0m \u001b[0mrange\u001b[0m\u001b[0;34m(\u001b[0m\u001b[0mlen\u001b[0m\u001b[0;34m(\u001b[0m\u001b[0mtraffic_signs\u001b[0m\u001b[0;34m)\u001b[0m\u001b[0;34m)\u001b[0m\u001b[0;34m:\u001b[0m\u001b[0;34m\u001b[0m\u001b[0;34m\u001b[0m\u001b[0m\n\u001b[1;32m      9\u001b[0m     \u001b[0mplt\u001b[0m\u001b[0;34m.\u001b[0m\u001b[0msubplot\u001b[0m\u001b[0;34m(\u001b[0m\u001b[0;36m1\u001b[0m\u001b[0;34m,\u001b[0m \u001b[0;36m4\u001b[0m\u001b[0;34m,\u001b[0m \u001b[0mi\u001b[0m\u001b[0;34m+\u001b[0m\u001b[0;36m1\u001b[0m\u001b[0;34m)\u001b[0m\u001b[0;34m\u001b[0m\u001b[0;34m\u001b[0m\u001b[0m\n\u001b[0;32m---> 10\u001b[0;31m     \u001b[0mplt\u001b[0m\u001b[0;34m.\u001b[0m\u001b[0maxis\u001b[0m\u001b[0;34m(\u001b[0m\u001b[0;34m'off'\u001b[0m\u001b[0;34m)\u001b[0m\u001b[0;34m\u001b[0m\u001b[0;34m\u001b[0m\u001b[0m\n\u001b[0m\u001b[1;32m     11\u001b[0m     \u001b[0mplt\u001b[0m\u001b[0;34m.\u001b[0m\u001b[0mimshow\u001b[0m\u001b[0;34m(\u001b[0m\u001b[0mimages\u001b[0m\u001b[0;34m[\u001b[0m\u001b[0mtraffic_signs\u001b[0m\u001b[0;34m[\u001b[0m\u001b[0mi\u001b[0m\u001b[0;34m]\u001b[0m\u001b[0;34m]\u001b[0m\u001b[0;34m)\u001b[0m\u001b[0;34m\u001b[0m\u001b[0;34m\u001b[0m\u001b[0m\n\u001b[1;32m     12\u001b[0m     \u001b[0mplt\u001b[0m\u001b[0;34m.\u001b[0m\u001b[0msubplots_adjust\u001b[0m\u001b[0;34m(\u001b[0m\u001b[0mwspace\u001b[0m\u001b[0;34m=\u001b[0m\u001b[0;36m0.5\u001b[0m\u001b[0;34m)\u001b[0m\u001b[0;34m\u001b[0m\u001b[0;34m\u001b[0m\u001b[0m\n",
            "\u001b[0;31mTypeError\u001b[0m: 'str' object is not callable"
          ]
        },
        {
          "output_type": "display_data",
          "data": {
            "text/plain": [
              "<Figure size 640x480 with 1 Axes>"
            ],
            "image/png": "[encoded data removed]"
          },
          "metadata": {}
        }
      ]
    },
    {
      "cell_type": "code",
      "source": [
        "def object_detection_on_an_image():\n",
        "  segment_image = instance_segmentation()\n",
        "  pathmodel = \"drive/MyDrive/mask_rcnn_coco.h5\"\n",
        "  segment_image.load_model(pathmodel)\n",
        "\n",
        "\n",
        "  segment_image.segmentImage(\n",
        "      image_path='40.jpg',\n",
        "      show_bboxes=True,\n",
        "      output_image_name='output.jpg'\n",
        "  )\n",
        "\n",
        "def main():\n",
        "  object_detection_on_an_image()\n",
        "\n",
        "# if __name__=='__main__':\n",
        "main()"
      ],
      "metadata": {
        "id": "NNOrr5zMUgyB"
      },
      "execution_count": null,
      "outputs": []
    },
    {
      "cell_type": "code",
      "source": [
        "# plt.subplot(1,1,1)\n",
        "# plt.axis('off')\n",
        "import matplotlib.pyplot as plt\n",
        "plt.axis('off')\n",
        "plt.imshow(skimage.io.imread(\"output.jpg\"))\n",
        "plt.subplots_adjust(wspace=0.5)\n",
        "plt.show()\n",
        "print('2343')\n",
        "# plt.imshow(skimage.io.imread(\"40.jpg\"))"
      ],
      "metadata": {
        "id": "EDKlLWIBecQH"
      },
      "execution_count": null,
      "outputs": []
    },
    {
      "cell_type": "code",
      "source": [
        "!pip3 uninstall mxnet-mkl==1.6.0 numpy==1.23.1"
      ],
      "metadata": {
        "id": "7EyRQ8ewhkzT"
      },
      "execution_count": null,
      "outputs": []
    }
  ]
}